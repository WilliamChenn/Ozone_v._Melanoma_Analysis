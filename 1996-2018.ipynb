{
 "cells": [
  {
   "cell_type": "code",
   "execution_count": 35,
   "id": "e89efe01",
   "metadata": {},
   "outputs": [
    {
     "data": {
      "image/png": "[encoded data removed]",
      "text/plain": [
       "<Figure size 432x288 with 1 Axes>"
      ]
     },
     "metadata": {
      "needs_background": "light"
     },
     "output_type": "display_data"
    },
    {
     "data": {
      "text/html": [
       "<div>\n",
       "<style scoped>\n",
       "    .dataframe tbody tr th:only-of-type {\n",
       "        vertical-align: middle;\n",
       "    }\n",
       "\n",
       "    .dataframe tbody tr th {\n",
       "        vertical-align: top;\n",
       "    }\n",
       "\n",
       "    .dataframe thead th {\n",
       "        text-align: right;\n",
       "    }\n",
       "</style>\n",
       "<table border=\"1\" class=\"dataframe\">\n",
       "  <thead>\n",
       "    <tr style=\"text-align: right;\">\n",
       "      <th></th>\n",
       "      <th>Year</th>\n",
       "      <th>Cases of Skin Cancer</th>\n",
       "      <th>Rate</th>\n",
       "      <th>Ozone Hole Area (Million Km^2)</th>\n",
       "      <th>Ozone Concentration (DU)</th>\n",
       "    </tr>\n",
       "  </thead>\n",
       "  <tbody>\n",
       "    <tr>\n",
       "      <th>0</th>\n",
       "      <td>1996</td>\n",
       "      <td>1515</td>\n",
       "      <td>35.4</td>\n",
       "      <td>26.9</td>\n",
       "      <td>103</td>\n",
       "    </tr>\n",
       "    <tr>\n",
       "      <th>1</th>\n",
       "      <td>1997</td>\n",
       "      <td>1495</td>\n",
       "      <td>33.8</td>\n",
       "      <td>25.1</td>\n",
       "      <td>99</td>\n",
       "    </tr>\n",
       "    <tr>\n",
       "      <th>2</th>\n",
       "      <td>1998</td>\n",
       "      <td>1574</td>\n",
       "      <td>34.6</td>\n",
       "      <td>27.9</td>\n",
       "      <td>86</td>\n",
       "    </tr>\n",
       "    <tr>\n",
       "      <th>3</th>\n",
       "      <td>1999</td>\n",
       "      <td>1570</td>\n",
       "      <td>34.3</td>\n",
       "      <td>25.8</td>\n",
       "      <td>97</td>\n",
       "    </tr>\n",
       "    <tr>\n",
       "      <th>4</th>\n",
       "      <td>2000</td>\n",
       "      <td>1711</td>\n",
       "      <td>36.8</td>\n",
       "      <td>29.9</td>\n",
       "      <td>89</td>\n",
       "    </tr>\n",
       "    <tr>\n",
       "      <th>5</th>\n",
       "      <td>2001</td>\n",
       "      <td>1752</td>\n",
       "      <td>37.0</td>\n",
       "      <td>26.5</td>\n",
       "      <td>91</td>\n",
       "    </tr>\n",
       "    <tr>\n",
       "      <th>6</th>\n",
       "      <td>2002</td>\n",
       "      <td>1832</td>\n",
       "      <td>38.1</td>\n",
       "      <td>21.9</td>\n",
       "      <td>131</td>\n",
       "    </tr>\n",
       "    <tr>\n",
       "      <th>7</th>\n",
       "      <td>2003</td>\n",
       "      <td>1850</td>\n",
       "      <td>37.2</td>\n",
       "      <td>28.4</td>\n",
       "      <td>91</td>\n",
       "    </tr>\n",
       "    <tr>\n",
       "      <th>8</th>\n",
       "      <td>2004</td>\n",
       "      <td>1895</td>\n",
       "      <td>36.9</td>\n",
       "      <td>22.8</td>\n",
       "      <td>102</td>\n",
       "    </tr>\n",
       "    <tr>\n",
       "      <th>9</th>\n",
       "      <td>2005</td>\n",
       "      <td>2048</td>\n",
       "      <td>39.1</td>\n",
       "      <td>27.2</td>\n",
       "      <td>103</td>\n",
       "    </tr>\n",
       "    <tr>\n",
       "      <th>10</th>\n",
       "      <td>2006</td>\n",
       "      <td>2013</td>\n",
       "      <td>37.2</td>\n",
       "      <td>29.6</td>\n",
       "      <td>84</td>\n",
       "    </tr>\n",
       "    <tr>\n",
       "      <th>11</th>\n",
       "      <td>2007</td>\n",
       "      <td>2181</td>\n",
       "      <td>39.2</td>\n",
       "      <td>25.2</td>\n",
       "      <td>108</td>\n",
       "    </tr>\n",
       "    <tr>\n",
       "      <th>12</th>\n",
       "      <td>2008</td>\n",
       "      <td>2258</td>\n",
       "      <td>39.8</td>\n",
       "      <td>27.0</td>\n",
       "      <td>101</td>\n",
       "    </tr>\n",
       "    <tr>\n",
       "      <th>13</th>\n",
       "      <td>2009</td>\n",
       "      <td>2213</td>\n",
       "      <td>37.9</td>\n",
       "      <td>24.4</td>\n",
       "      <td>97</td>\n",
       "    </tr>\n",
       "    <tr>\n",
       "      <th>14</th>\n",
       "      <td>2010</td>\n",
       "      <td>2348</td>\n",
       "      <td>39.6</td>\n",
       "      <td>22.6</td>\n",
       "      <td>119</td>\n",
       "    </tr>\n",
       "    <tr>\n",
       "      <th>15</th>\n",
       "      <td>2011</td>\n",
       "      <td>2211</td>\n",
       "      <td>36.4</td>\n",
       "      <td>26.1</td>\n",
       "      <td>95</td>\n",
       "    </tr>\n",
       "    <tr>\n",
       "      <th>16</th>\n",
       "      <td>2012</td>\n",
       "      <td>2333</td>\n",
       "      <td>37.0</td>\n",
       "      <td>21.1</td>\n",
       "      <td>124</td>\n",
       "    </tr>\n",
       "    <tr>\n",
       "      <th>17</th>\n",
       "      <td>2013</td>\n",
       "      <td>2368</td>\n",
       "      <td>37.3</td>\n",
       "      <td>24.0</td>\n",
       "      <td>116</td>\n",
       "    </tr>\n",
       "    <tr>\n",
       "      <th>18</th>\n",
       "      <td>2014</td>\n",
       "      <td>2299</td>\n",
       "      <td>34.9</td>\n",
       "      <td>24.1</td>\n",
       "      <td>114</td>\n",
       "    </tr>\n",
       "    <tr>\n",
       "      <th>19</th>\n",
       "      <td>2015</td>\n",
       "      <td>2427</td>\n",
       "      <td>35.4</td>\n",
       "      <td>28.2</td>\n",
       "      <td>101</td>\n",
       "    </tr>\n",
       "    <tr>\n",
       "      <th>20</th>\n",
       "      <td>2016</td>\n",
       "      <td>2573</td>\n",
       "      <td>36.3</td>\n",
       "      <td>23.0</td>\n",
       "      <td>114</td>\n",
       "    </tr>\n",
       "    <tr>\n",
       "      <th>21</th>\n",
       "      <td>2017</td>\n",
       "      <td>2558</td>\n",
       "      <td>35.1</td>\n",
       "      <td>19.6</td>\n",
       "      <td>131</td>\n",
       "    </tr>\n",
       "    <tr>\n",
       "      <th>22</th>\n",
       "      <td>2018</td>\n",
       "      <td>2740</td>\n",
       "      <td>36.5</td>\n",
       "      <td>24.8</td>\n",
       "      <td>102</td>\n",
       "    </tr>\n",
       "  </tbody>\n",
       "</table>\n",
       "</div>"
      ],
      "text/plain": [
       "    Year  Cases of Skin Cancer  Rate  Ozone Hole Area (Million Km^2)  \\\n",
       "0   1996                  1515  35.4                            26.9   \n",
       "1   1997                  1495  33.8                            25.1   \n",
       "2   1998                  1574  34.6                            27.9   \n",
       "3   1999                  1570  34.3                            25.8   \n",
       "4   2000                  1711  36.8                            29.9   \n",
       "5   2001                  1752  37.0                            26.5   \n",
       "6   2002                  1832  38.1                            21.9   \n",
       "7   2003                  1850  37.2                            28.4   \n",
       "8   2004                  1895  36.9                            22.8   \n",
       "9   2005                  2048  39.1                            27.2   \n",
       "10  2006                  2013  37.2                            29.6   \n",
       "11  2007                  2181  39.2                            25.2   \n",
       "12  2008                  2258  39.8                            27.0   \n",
       "13  2009                  2213  37.9                            24.4   \n",
       "14  2010                  2348  39.6                            22.6   \n",
       "15  2011                  2211  36.4                            26.1   \n",
       "16  2012                  2333  37.0                            21.1   \n",
       "17  2013                  2368  37.3                            24.0   \n",
       "18  2014                  2299  34.9                            24.1   \n",
       "19  2015                  2427  35.4                            28.2   \n",
       "20  2016                  2573  36.3                            23.0   \n",
       "21  2017                  2558  35.1                            19.6   \n",
       "22  2018                  2740  36.5                            24.8   \n",
       "\n",
       "    Ozone Concentration (DU)  \n",
       "0                        103  \n",
       "1                         99  \n",
       "2                         86  \n",
       "3                         97  \n",
       "4                         89  \n",
       "5                         91  \n",
       "6                        131  \n",
       "7                         91  \n",
       "8                        102  \n",
       "9                        103  \n",
       "10                        84  \n",
       "11                       108  \n",
       "12                       101  \n",
       "13                        97  \n",
       "14                       119  \n",
       "15                        95  \n",
       "16                       124  \n",
       "17                       116  \n",
       "18                       114  \n",
       "19                       101  \n",
       "20                       114  \n",
       "21                       131  \n",
       "22                       102  "
      ]
     },
     "execution_count": 35,
     "metadata": {},
     "output_type": "execute_result"
    }
   ],
   "source": [
    "import numpy as np\n",
    "import pandas as pd\n",
    "import matplotlib.pyplot as plt\n",
    "%matplotlib inline\n",
    "df = pd.read_csv(\"/Users/william/Desktop/SVSM_EDS_Chen_William/Copy of Data New Zealand - 1996 - 2018.csv\")\n",
    "\n",
    "from scipy.stats.stats import pearsonr\n",
    "import seaborn as sns\n",
    "\n",
    "\n",
    "x = df[\"Year\"]\n",
    "y = df[\"Ozone Hole Area (Million Km^2)\"]\n",
    "# plotting the points \n",
    "plt.plot(x, y)\n",
    "  \n",
    "# naming the x axis\n",
    "plt.xlabel('Year')\n",
    "# naming the y axis\n",
    "plt.ylabel('Ozone Hole Area (Million Km^2)')\n",
    "  \n",
    "# giving a title to my graph\n",
    "plt.title('Ozone Hole Area (Million Km^2) (1996 - 2018)')\n",
    "\n",
    "\n",
    "\n",
    "# function to show the plot\n",
    "plt.show()\n",
    "\n",
    "\n",
    "df\n",
    "\n",
    "\n",
    "\n",
    "\n"
   ]
  },
  {
   "cell_type": "code",
   "execution_count": 30,
   "id": "222d7b7f",
   "metadata": {},
   "outputs": [
    {
     "name": "stdout",
     "output_type": "stream",
     "text": [
      "corelation coefficient:  -0.4382411631978523\n",
      "P-Value 0.03646866657462992\n"
     ]
    },
    {
     "data": {
      "image/png": "[encoded data removed]",
      "text/plain": [
       "<Figure size 432x288 with 1 Axes>"
      ]
     },
     "metadata": {
      "needs_background": "light"
     },
     "output_type": "display_data"
    }
   ],
   "source": [
    "x = df[\"Cases of Skin Cancer\"]\n",
    "y = df[\"Ozone Hole Area (Million Km^2)\"]\n",
    "\n",
    "\n",
    "plt.plot(x, y, 'o')\n",
    "plt.title(\"Cases of melanoma v. Ozone Hole Area (Million Km^2)\")\n",
    "plt.xlabel('Cases of melanoma')\n",
    "plt.ylabel('Ozone Hole Area (Million Km^2)')\n",
    "print(\"corelation coefficient: \", np.corrcoef(df['Cases of Skin Cancer'], df['Ozone Hole Area (Million Km^2)'])[0,-1])\n",
    "p_value = pearsonr(df['Cases of Skin Cancer'], df['Ozone Hole Area (Million Km^2)'])\n",
    "print(\"P-Value\", p_value[-1])\n",
    "\n"
   ]
  },
  {
   "cell_type": "code",
   "execution_count": 31,
   "id": "9943f741",
   "metadata": {
    "scrolled": true
   },
   "outputs": [
    {
     "name": "stdout",
     "output_type": "stream",
     "text": [
      "corelation coefficient:  0.48124139609034444\n",
      "P-Value 0.02007996394609061\n"
     ]
    },
    {
     "data": {
      "image/png": "[encoded data removed]",
      "text/plain": [
       "<Figure size 432x288 with 1 Axes>"
      ]
     },
     "metadata": {
      "needs_background": "light"
     },
     "output_type": "display_data"
    }
   ],
   "source": [
    "x = df[\"Cases of Skin Cancer\"]\n",
    "y = df[\"Ozone Concentration (DU)\"]\n",
    "\n",
    "\n",
    "plt.plot(x, y, 'o')\n",
    "plt.title(\"Cases of melanoma v. Ozone Concentration (DU)\")\n",
    "plt.xlabel('Cases of melanoma')\n",
    "plt.ylabel('Ozone Concentration (DU)')\n",
    "\n",
    "\n",
    "print(\"corelation coefficient: \", np.corrcoef(df['Cases of Skin Cancer'], df['Ozone Concentration (DU)'])[0,-1])\n",
    "p_value = pearsonr(df['Cases of Skin Cancer'], df['Ozone Concentration (DU)'])\n",
    "print(\"P-Value\", p_value[-1])"
   ]
  },
  {
   "cell_type": "code",
   "execution_count": 32,
   "id": "0094f64c",
   "metadata": {},
   "outputs": [
    {
     "name": "stdout",
     "output_type": "stream",
     "text": [
      "corelation coefficient:  -0.019920747518356766\n",
      "P-Value 0.9281144548872268\n"
     ]
    },
    {
     "data": {
      "image/png": "[encoded data removed]",
      "text/plain": [
       "<Figure size 432x288 with 1 Axes>"
      ]
     },
     "metadata": {
      "needs_background": "light"
     },
     "output_type": "display_data"
    }
   ],
   "source": [
    "x = df[\"Rate\"]\n",
    "y = df[\"Ozone Hole Area (Million Km^2)\"]\n",
    "\n",
    "\n",
    "plt.plot(x, y, 'o')\n",
    "plt.title(\"Rate per 100k v. Ozone Hole Area (Million Km^2)\")\n",
    "plt.xlabel('Rate per 100k')\n",
    "plt.ylabel('Ozone Hole Area (Million Km^2)')\n",
    "\n",
    "\n",
    "print(\"corelation coefficient: \", np.corrcoef(df['Rate'], df['Ozone Hole Area (Million Km^2)'])[0,-1])\n",
    "p_value = pearsonr(df['Rate'], df['Ozone Hole Area (Million Km^2)'])\n",
    "print(\"P-Value\", p_value[-1])"
   ]
  },
  {
   "cell_type": "code",
   "execution_count": 33,
   "id": "c358fe17",
   "metadata": {},
   "outputs": [
    {
     "name": "stdout",
     "output_type": "stream",
     "text": [
      "corelation coefficient:  0.1485151816172051\n",
      "P-Value 0.49885038694853423\n"
     ]
    },
    {
     "data": {
      "image/png": "[encoded data removed]",
      "text/plain": [
       "<Figure size 432x288 with 1 Axes>"
      ]
     },
     "metadata": {
      "needs_background": "light"
     },
     "output_type": "display_data"
    }
   ],
   "source": [
    "x = df[\"Rate\"]\n",
    "y = df[\"Ozone Concentration (DU)\"]\n",
    "\n",
    "\n",
    "plt.plot(x, y, 'o')\n",
    "plt.title(\"Rate per 100k v. Ozone Concentration (DU)\")\n",
    "plt.xlabel('Rate per 100k')\n",
    "plt.ylabel('Ozone Concentration (DU)')\n",
    "\n",
    "\n",
    "print(\"corelation coefficient: \", np.corrcoef(df['Rate'], df['Ozone Concentration (DU)'])[0,-1])\n",
    "p_value = pearsonr(df['Rate'], df['Ozone Concentration (DU)'])\n",
    "print(\"P-Value\", p_value[-1])"
   ]
  },
  {
   "cell_type": "code",
   "execution_count": null,
   "id": "b7dc5a01",
   "metadata": {},
   "outputs": [],
   "source": []
  },
  {
   "cell_type": "code",
   "execution_count": null,
   "id": "cb9e8f28",
   "metadata": {},
   "outputs": [],
   "source": []
  },
  {
   "cell_type": "code",
   "execution_count": null,
   "id": "41648c02",
   "metadata": {},
   "outputs": [],
   "source": []
  },
  {
   "cell_type": "code",
   "execution_count": null,
   "id": "3eb70b3a",
   "metadata": {},
   "outputs": [],
   "source": []
  },
  {
   "cell_type": "code",
   "execution_count": null,
   "id": "8903f832",
   "metadata": {},
   "outputs": [],
   "source": []
  },
  {
   "cell_type": "code",
   "execution_count": null,
   "id": "341b82ff",
   "metadata": {},
   "outputs": [],
   "source": []
  },
  {
   "cell_type": "code",
   "execution_count": null,
   "id": "e72d483c",
   "metadata": {},
   "outputs": [],
   "source": [
    "\n",
    "plt.title(\"Rate per 100k individuals v. Ozone Concentration (DU)\")\n",
    "plt.xlabel(\"Rate per 100k\")\n",
    "plt.ylabel(\"Ozone Concentration (DU)\")\n",
    "plt.plot(x, m*x + b, color = \"black\")\n",
    "\n",
    "\n",
    "\n",
    "\n",
    "\n",
    "\n",
    "#to show the dataframe\n",
    "scaler = MinMaxScaler()\n",
    "df_scaled = df.copy()\n",
    "df_scaled[[\"Cases of melanoma\", \"Rate\", \"Ozone Concentration (DU)\", \"Ozone Hole Area (Million Km^2)\"]] = pd.DataFrame(scaler.fit_transform(df_scaled[[\"Cases of melanoma\", \"Rate\", \"Ozone Concentration (DU)\",\"Ozone Hole Area (Million Km^2)\"]]))\n",
    "df_scaled.columns = df.columns\n",
    "df_scaled"
   ]
  }
 ],
 "metadata": {
  "kernelspec": {
   "display_name": "Python 3 (ipykernel)",
   "language": "python",
   "name": "python3"
  },
  "language_info": {
   "codemirror_mode": {
    "name": "ipython",
    "version": 3
   },
   "file_extension": ".py",
   "mimetype": "text/x-python",
   "name": "python",
   "nbconvert_exporter": "python",
   "pygments_lexer": "ipython3",
   "version": "3.9.12"
  }
 },
 "nbformat": 4,
 "nbformat_minor": 5
}
