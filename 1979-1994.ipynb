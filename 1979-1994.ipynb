{
 "cells": [
  {
   "cell_type": "code",
   "execution_count": null,
   "id": "df11d464",
   "metadata": {},
   "outputs": [],
   "source": []
  },
  {
   "cell_type": "code",
   "execution_count": 80,
   "id": "0ef5da98",
   "metadata": {},
   "outputs": [
    {
     "data": {
      "text/html": [
       "<div>\n",
       "<style scoped>\n",
       "    .dataframe tbody tr th:only-of-type {\n",
       "        vertical-align: middle;\n",
       "    }\n",
       "\n",
       "    .dataframe tbody tr th {\n",
       "        vertical-align: top;\n",
       "    }\n",
       "\n",
       "    .dataframe thead th {\n",
       "        text-align: right;\n",
       "    }\n",
       "</style>\n",
       "<table border=\"1\" class=\"dataframe\">\n",
       "  <thead>\n",
       "    <tr style=\"text-align: right;\">\n",
       "      <th></th>\n",
       "      <th>Year</th>\n",
       "      <th>Cases of melanoma</th>\n",
       "      <th>Rate</th>\n",
       "      <th>Ozone Hole Area (Million Km^2)</th>\n",
       "      <th>Ozone Concentration (DU)</th>\n",
       "    </tr>\n",
       "  </thead>\n",
       "  <tbody>\n",
       "    <tr>\n",
       "      <th>0</th>\n",
       "      <td>1979</td>\n",
       "      <td>495</td>\n",
       "      <td>16.5</td>\n",
       "      <td>1.1</td>\n",
       "      <td>194</td>\n",
       "    </tr>\n",
       "    <tr>\n",
       "      <th>1</th>\n",
       "      <td>1980</td>\n",
       "      <td>610</td>\n",
       "      <td>20.1</td>\n",
       "      <td>3.3</td>\n",
       "      <td>192</td>\n",
       "    </tr>\n",
       "    <tr>\n",
       "      <th>2</th>\n",
       "      <td>1981</td>\n",
       "      <td>641</td>\n",
       "      <td>20.5</td>\n",
       "      <td>3.1</td>\n",
       "      <td>195</td>\n",
       "    </tr>\n",
       "    <tr>\n",
       "      <th>3</th>\n",
       "      <td>1982</td>\n",
       "      <td>733</td>\n",
       "      <td>23.1</td>\n",
       "      <td>10.8</td>\n",
       "      <td>170</td>\n",
       "    </tr>\n",
       "    <tr>\n",
       "      <th>4</th>\n",
       "      <td>1983</td>\n",
       "      <td>686</td>\n",
       "      <td>21.2</td>\n",
       "      <td>12.2</td>\n",
       "      <td>154</td>\n",
       "    </tr>\n",
       "    <tr>\n",
       "      <th>5</th>\n",
       "      <td>1984</td>\n",
       "      <td>771</td>\n",
       "      <td>23.2</td>\n",
       "      <td>14.7</td>\n",
       "      <td>144</td>\n",
       "    </tr>\n",
       "    <tr>\n",
       "      <th>6</th>\n",
       "      <td>1985</td>\n",
       "      <td>662</td>\n",
       "      <td>19.4</td>\n",
       "      <td>18.8</td>\n",
       "      <td>124</td>\n",
       "    </tr>\n",
       "    <tr>\n",
       "      <th>7</th>\n",
       "      <td>1986</td>\n",
       "      <td>737</td>\n",
       "      <td>21.5</td>\n",
       "      <td>14.4</td>\n",
       "      <td>140</td>\n",
       "    </tr>\n",
       "    <tr>\n",
       "      <th>8</th>\n",
       "      <td>1987</td>\n",
       "      <td>814</td>\n",
       "      <td>23.2</td>\n",
       "      <td>22.5</td>\n",
       "      <td>109</td>\n",
       "    </tr>\n",
       "    <tr>\n",
       "      <th>9</th>\n",
       "      <td>1988</td>\n",
       "      <td>1051</td>\n",
       "      <td>29.6</td>\n",
       "      <td>13.8</td>\n",
       "      <td>162</td>\n",
       "    </tr>\n",
       "    <tr>\n",
       "      <th>10</th>\n",
       "      <td>1989</td>\n",
       "      <td>1005</td>\n",
       "      <td>28.1</td>\n",
       "      <td>21.7</td>\n",
       "      <td>108</td>\n",
       "    </tr>\n",
       "    <tr>\n",
       "      <th>11</th>\n",
       "      <td>1990</td>\n",
       "      <td>884</td>\n",
       "      <td>24.0</td>\n",
       "      <td>21.1</td>\n",
       "      <td>111</td>\n",
       "    </tr>\n",
       "    <tr>\n",
       "      <th>12</th>\n",
       "      <td>1991</td>\n",
       "      <td>973</td>\n",
       "      <td>26.0</td>\n",
       "      <td>22.6</td>\n",
       "      <td>94</td>\n",
       "    </tr>\n",
       "    <tr>\n",
       "      <th>13</th>\n",
       "      <td>1992</td>\n",
       "      <td>1032</td>\n",
       "      <td>27.0</td>\n",
       "      <td>24.9</td>\n",
       "      <td>105</td>\n",
       "    </tr>\n",
       "    <tr>\n",
       "      <th>14</th>\n",
       "      <td>1993</td>\n",
       "      <td>1037</td>\n",
       "      <td>26.5</td>\n",
       "      <td>25.8</td>\n",
       "      <td>104</td>\n",
       "    </tr>\n",
       "    <tr>\n",
       "      <th>15</th>\n",
       "      <td>1994</td>\n",
       "      <td>1487</td>\n",
       "      <td>37.8</td>\n",
       "      <td>25.2</td>\n",
       "      <td>73</td>\n",
       "    </tr>\n",
       "  </tbody>\n",
       "</table>\n",
       "</div>"
      ],
      "text/plain": [
       "    Year  Cases of melanoma  Rate  Ozone Hole Area (Million Km^2)  \\\n",
       "0   1979                495  16.5                             1.1   \n",
       "1   1980                610  20.1                             3.3   \n",
       "2   1981                641  20.5                             3.1   \n",
       "3   1982                733  23.1                            10.8   \n",
       "4   1983                686  21.2                            12.2   \n",
       "5   1984                771  23.2                            14.7   \n",
       "6   1985                662  19.4                            18.8   \n",
       "7   1986                737  21.5                            14.4   \n",
       "8   1987                814  23.2                            22.5   \n",
       "9   1988               1051  29.6                            13.8   \n",
       "10  1989               1005  28.1                            21.7   \n",
       "11  1990                884  24.0                            21.1   \n",
       "12  1991                973  26.0                            22.6   \n",
       "13  1992               1032  27.0                            24.9   \n",
       "14  1993               1037  26.5                            25.8   \n",
       "15  1994               1487  37.8                            25.2   \n",
       "\n",
       "    Ozone Concentration (DU)  \n",
       "0                        194  \n",
       "1                        192  \n",
       "2                        195  \n",
       "3                        170  \n",
       "4                        154  \n",
       "5                        144  \n",
       "6                        124  \n",
       "7                        140  \n",
       "8                        109  \n",
       "9                        162  \n",
       "10                       108  \n",
       "11                       111  \n",
       "12                        94  \n",
       "13                       105  \n",
       "14                       104  \n",
       "15                        73  "
      ]
     },
     "execution_count": 80,
     "metadata": {},
     "output_type": "execute_result"
    }
   ],
   "source": [
    "import numpy as np\n",
    "import pandas as pd\n",
    "import matplotlib.pyplot as plt\n",
    "from sklearn.preprocessing import MinMaxScaler\n",
    "from scipy.stats.stats import pearsonr\n",
    "import seaborn as sns\n",
    "from sklearn import metrics\n",
    "from sklearn import linear_model\n",
    "from sklearn.pipeline import Pipeline\n",
    "from sklearn.preprocessing import PolynomialFeatures\n",
    "from sklearn.model_selection import GridSearchCV, train_test_split\n",
    "from sklearn.linear_model import Lasso\n",
    "# This is a python magic command.\n",
    "# This command allows the output of matplotlib to be displayed inline, i.e. under the cell.\n",
    "%matplotlib inline\n",
    "df = pd.read_csv(\"/Users/william/Desktop/SVSM_EDS_Chen_William/Copy of Data New Zealand - 1979 - 1994.csv\")\n",
    "#to read and store the dataset in a dataframe caslled df_raw\n",
    "\n",
    "df"
   ]
  },
  {
   "cell_type": "code",
   "execution_count": null,
   "id": "de32e836",
   "metadata": {},
   "outputs": [],
   "source": []
  },
  {
   "cell_type": "code",
   "execution_count": 81,
   "id": "1d31812e",
   "metadata": {},
   "outputs": [
    {
     "data": {
      "image/png": "[encoded data removed]",
      "text/plain": [
       "<Figure size 432x288 with 1 Axes>"
      ]
     },
     "metadata": {
      "needs_background": "light"
     },
     "output_type": "display_data"
    }
   ],
   "source": [
    "x = df[\"Year\"]\n",
    "y = df[\"Cases of melanoma\"]\n",
    "# plotting the points \n",
    "plt.plot(x, y)\n",
    "  \n",
    "\n",
    "  \n",
    "# giving a title to my graph\n",
    "plt.title('Cases of Melanoma (1979 - 1994)')\n",
    "\n",
    "\n",
    "\n",
    "# function to show the plot\n",
    "plt.show()"
   ]
  },
  {
   "cell_type": "code",
   "execution_count": 82,
   "id": "303d0b32",
   "metadata": {},
   "outputs": [
    {
     "data": {
      "image/png": "[encoded data removed]",
      "text/plain": [
       "<Figure size 432x288 with 1 Axes>"
      ]
     },
     "metadata": {
      "needs_background": "light"
     },
     "output_type": "display_data"
    }
   ],
   "source": [
    "x = df[\"Year\"]\n",
    "y = df[\"Rate\"]\n",
    "# plotting the points \n",
    "plt.plot(x, y)\n",
    "  \n",
    "\n",
    "  \n",
    "# giving a title to my graph\n",
    "plt.title('Rate per 100k individuals (1979 - 1994)')\n",
    "\n",
    "\n",
    "\n",
    "# function to show the plot\n",
    "plt.show()"
   ]
  },
  {
   "cell_type": "code",
   "execution_count": 83,
   "id": "55fb5487",
   "metadata": {},
   "outputs": [
    {
     "data": {
      "image/png": "[encoded data removed]",
      "text/plain": [
       "<Figure size 432x288 with 1 Axes>"
      ]
     },
     "metadata": {
      "needs_background": "light"
     },
     "output_type": "display_data"
    }
   ],
   "source": [
    "x = df[\"Year\"]\n",
    "y = df[\"Ozone Hole Area (Million Km^2)\"]\n",
    "# plotting the points \n",
    "plt.plot(x, y)\n",
    "  \n",
    "\n",
    "  \n",
    "# giving a title to my graph\n",
    "plt.title('Ozone Hole Area (Million Km^2) (1979 - 1994)')\n",
    "\n",
    "\n",
    "\n",
    "# function to show the plot\n",
    "plt.show()"
   ]
  },
  {
   "cell_type": "code",
   "execution_count": 84,
   "id": "d5153fd8",
   "metadata": {},
   "outputs": [
    {
     "data": {
      "image/png": "[encoded data removed]",
      "text/plain": [
       "<Figure size 432x288 with 1 Axes>"
      ]
     },
     "metadata": {
      "needs_background": "light"
     },
     "output_type": "display_data"
    }
   ],
   "source": [
    "x = df[\"Year\"]\n",
    "y = df[\"Ozone Concentration (DU)\"]\n",
    "# plotting the points \n",
    "plt.plot(x, y)\n",
    "  \n",
    "\n",
    "  \n",
    "# giving a title to my graph\n",
    "plt.title('Ozone Concentration (DU) (1979 - 1994)')\n",
    "\n",
    "\n",
    "\n",
    "# function to show the plot\n",
    "plt.show()"
   ]
  },
  {
   "cell_type": "code",
   "execution_count": null,
   "id": "609a5119",
   "metadata": {},
   "outputs": [],
   "source": []
  },
  {
   "cell_type": "code",
   "execution_count": null,
   "id": "e8f52752",
   "metadata": {},
   "outputs": [],
   "source": []
  },
  {
   "cell_type": "code",
   "execution_count": 71,
   "id": "97258005",
   "metadata": {
    "scrolled": true
   },
   "outputs": [
    {
     "name": "stdout",
     "output_type": "stream",
     "text": [
      "corelation coefficient:  -0.773510780560421\n",
      "P-Value 0.0004395851032751503\n"
     ]
    },
    {
     "data": {
      "image/png": "[encoded data removed]",
      "text/plain": [
       "<Figure size 432x288 with 1 Axes>"
      ]
     },
     "metadata": {
      "needs_background": "light"
     },
     "output_type": "display_data"
    }
   ],
   "source": [
    "x = df[\"Cases of melanoma\"]\n",
    "y = df[\"Ozone Concentration (DU)\"]\n",
    "\n",
    "\n",
    "plt.plot(x, y, 'o')\n",
    "plt.title(\"Cases of melanoma v. Ozone Concentration (DU)\")\n",
    "plt.xlabel('Cases of melanoma')\n",
    "plt.ylabel('Ozone Concentration (DU)')\n",
    "\n",
    "\n",
    "print(\"corelation coefficient: \", np.corrcoef(df['Cases of melanoma'], df['Ozone Concentration (DU)'])[0,-1])\n",
    "p_value = pearsonr(df['Cases of melanoma'], df['Ozone Concentration (DU)'])\n",
    "print(\"P-Value\", p_value[-1])"
   ]
  },
  {
   "cell_type": "code",
   "execution_count": 72,
   "id": "ff2a780b",
   "metadata": {},
   "outputs": [
    {
     "name": "stdout",
     "output_type": "stream",
     "text": [
      "corelation coefficient:  0.755588909333678\n",
      "P-Value 0.000711244804617481\n"
     ]
    },
    {
     "data": {
      "image/png": "[encoded data removed]",
      "text/plain": [
       "<Figure size 432x288 with 1 Axes>"
      ]
     },
     "metadata": {
      "needs_background": "light"
     },
     "output_type": "display_data"
    }
   ],
   "source": [
    "x = df[\"Cases of melanoma\"]\n",
    "y = df[\"Ozone Hole Area (Million Km^2)\"]\n",
    "\n",
    "\n",
    "plt.plot(x, y, 'o')\n",
    "plt.title(\"Cases of melanoma v. Ozone Hole Area (Million Km^2)\")\n",
    "plt.xlabel('Cases of melanoma')\n",
    "plt.ylabel('Ozone Hole Area (Million Km^2)')\n",
    "print(\"corelation coefficient: \", np.corrcoef(df['Cases of melanoma'], df['Ozone Hole Area (Million Km^2)'])[0,-1])\n",
    "p_value = pearsonr(df['Cases of melanoma'], df['Ozone Hole Area (Million Km^2)'])\n",
    "print(\"P-Value\", p_value[-1])"
   ]
  },
  {
   "cell_type": "code",
   "execution_count": 75,
   "id": "ff07ed7c",
   "metadata": {},
   "outputs": [
    {
     "name": "stdout",
     "output_type": "stream",
     "text": [
      "corelation coefficient:  -0.6820983760389684\n",
      "P-Value 0.0036053914079792714\n"
     ]
    },
    {
     "data": {
      "image/png": "[encoded data removed]",
      "text/plain": [
       "<Figure size 432x288 with 1 Axes>"
      ]
     },
     "metadata": {
      "needs_background": "light"
     },
     "output_type": "display_data"
    }
   ],
   "source": [
    "x = df[\"Rate\"]\n",
    "y = df[\"Ozone Concentration (DU)\"]\n",
    "\n",
    "\n",
    "plt.plot(x, y, 'o')\n",
    "plt.title(\"Rate per 100k v. Ozone Concentration (DU)\")\n",
    "plt.xlabel('Rate per 100k')\n",
    "plt.ylabel('Ozone Concentration (DU)')\n",
    "print(\"corelation coefficient: \", np.corrcoef(df['Rate'], df['Ozone Concentration (DU)'])[0,-1])\n",
    "p_value = pearsonr(df['Rate'], df['Ozone Concentration (DU)'])\n",
    "print(\"P-Value\", p_value[-1])"
   ]
  },
  {
   "cell_type": "code",
   "execution_count": 76,
   "id": "cb9366ba",
   "metadata": {},
   "outputs": [
    {
     "name": "stdout",
     "output_type": "stream",
     "text": [
      "corelation coefficient:  0.6645574974018014\n",
      "P-Value 0.004980558988585276\n"
     ]
    },
    {
     "data": {
      "image/png": "[encoded data removed]",
      "text/plain": [
       "<Figure size 432x288 with 1 Axes>"
      ]
     },
     "metadata": {
      "needs_background": "light"
     },
     "output_type": "display_data"
    }
   ],
   "source": [
    "x = df[\"Rate\"]\n",
    "y = df[\"Ozone Hole Area (Million Km^2)\"]\n",
    "\n",
    "\n",
    "plt.plot(x, y, 'o')\n",
    "plt.title(\"Rate per 100k v. Ozone Hole Area (Million Km^2)\")\n",
    "plt.xlabel('Rate per 100k')\n",
    "plt.ylabel('Ozone Hole Area (Million Km^2)')\n",
    "print(\"corelation coefficient: \", np.corrcoef(df['Rate'], df['Ozone Hole Area (Million Km^2)'])[0,-1])\n",
    "p_value = pearsonr(df['Rate'], df['Ozone Hole Area (Million Km^2)'])\n",
    "print(\"P-Value\", p_value[-1])"
   ]
  },
  {
   "cell_type": "code",
   "execution_count": null,
   "id": "064d6c62",
   "metadata": {},
   "outputs": [],
   "source": []
  },
  {
   "cell_type": "code",
   "execution_count": null,
   "id": "0d8ff3bb",
   "metadata": {},
   "outputs": [],
   "source": []
  },
  {
   "cell_type": "code",
   "execution_count": null,
   "id": "dbb8e5cd",
   "metadata": {},
   "outputs": [],
   "source": []
  },
  {
   "cell_type": "code",
   "execution_count": null,
   "id": "9d538d04",
   "metadata": {},
   "outputs": [],
   "source": []
  },
  {
   "cell_type": "code",
   "execution_count": 56,
   "id": "66dedffe",
   "metadata": {},
   "outputs": [
    {
     "name": "stdout",
     "output_type": "stream",
     "text": [
      "corelation coefficient:  -0.6820983760389684\n"
     ]
    }
   ],
   "source": [
    "print(\"corelation coefficient: \", np.corrcoef(df['Rate'], df['Ozone Concentration (DU)'])[0,-1])\n"
   ]
  },
  {
   "cell_type": "code",
   "execution_count": 57,
   "id": "3428a0fc",
   "metadata": {},
   "outputs": [
    {
     "name": "stdout",
     "output_type": "stream",
     "text": [
      "P-Value 0.0036053914079792714\n"
     ]
    }
   ],
   "source": []
  },
  {
   "cell_type": "code",
   "execution_count": 47,
   "id": "de2bfaea",
   "metadata": {},
   "outputs": [
    {
     "data": {
      "text/html": [
       "<div>\n",
       "<style scoped>\n",
       "    .dataframe tbody tr th:only-of-type {\n",
       "        vertical-align: middle;\n",
       "    }\n",
       "\n",
       "    .dataframe tbody tr th {\n",
       "        vertical-align: top;\n",
       "    }\n",
       "\n",
       "    .dataframe thead th {\n",
       "        text-align: right;\n",
       "    }\n",
       "</style>\n",
       "<table border=\"1\" class=\"dataframe\">\n",
       "  <thead>\n",
       "    <tr style=\"text-align: right;\">\n",
       "      <th></th>\n",
       "      <th>Year</th>\n",
       "      <th>Cases of melanoma</th>\n",
       "      <th>Rate</th>\n",
       "      <th>Ozone Hole Area (Million Km^2)</th>\n",
       "      <th>Ozone Concentration (DU)</th>\n",
       "    </tr>\n",
       "  </thead>\n",
       "  <tbody>\n",
       "    <tr>\n",
       "      <th>Year</th>\n",
       "      <td>1.000000</td>\n",
       "      <td>0.888148</td>\n",
       "      <td>0.804273</td>\n",
       "      <td>0.929303</td>\n",
       "      <td>-0.915267</td>\n",
       "    </tr>\n",
       "    <tr>\n",
       "      <th>Cases of melanoma</th>\n",
       "      <td>0.888148</td>\n",
       "      <td>1.000000</td>\n",
       "      <td>0.984680</td>\n",
       "      <td>0.755589</td>\n",
       "      <td>-0.773511</td>\n",
       "    </tr>\n",
       "    <tr>\n",
       "      <th>Rate</th>\n",
       "      <td>0.804273</td>\n",
       "      <td>0.984680</td>\n",
       "      <td>1.000000</td>\n",
       "      <td>0.664557</td>\n",
       "      <td>-0.682098</td>\n",
       "    </tr>\n",
       "    <tr>\n",
       "      <th>Ozone Hole Area (Million Km^2)</th>\n",
       "      <td>0.929303</td>\n",
       "      <td>0.755589</td>\n",
       "      <td>0.664557</td>\n",
       "      <td>1.000000</td>\n",
       "      <td>-0.969598</td>\n",
       "    </tr>\n",
       "    <tr>\n",
       "      <th>Ozone Concentration (DU)</th>\n",
       "      <td>-0.915267</td>\n",
       "      <td>-0.773511</td>\n",
       "      <td>-0.682098</td>\n",
       "      <td>-0.969598</td>\n",
       "      <td>1.000000</td>\n",
       "    </tr>\n",
       "  </tbody>\n",
       "</table>\n",
       "</div>"
      ],
      "text/plain": [
       "                                    Year  Cases of melanoma      Rate  \\\n",
       "Year                            1.000000           0.888148  0.804273   \n",
       "Cases of melanoma               0.888148           1.000000  0.984680   \n",
       "Rate                            0.804273           0.984680  1.000000   \n",
       "Ozone Hole Area (Million Km^2)  0.929303           0.755589  0.664557   \n",
       "Ozone Concentration (DU)       -0.915267          -0.773511 -0.682098   \n",
       "\n",
       "                                Ozone Hole Area (Million Km^2)  \\\n",
       "Year                                                  0.929303   \n",
       "Cases of melanoma                                     0.755589   \n",
       "Rate                                                  0.664557   \n",
       "Ozone Hole Area (Million Km^2)                        1.000000   \n",
       "Ozone Concentration (DU)                             -0.969598   \n",
       "\n",
       "                                Ozone Concentration (DU)  \n",
       "Year                                           -0.915267  \n",
       "Cases of melanoma                              -0.773511  \n",
       "Rate                                           -0.682098  \n",
       "Ozone Hole Area (Million Km^2)                 -0.969598  \n",
       "Ozone Concentration (DU)                        1.000000  "
      ]
     },
     "execution_count": 47,
     "metadata": {},
     "output_type": "execute_result"
    }
   ],
   "source": [
    "df_scaled.corr()"
   ]
  },
  {
   "cell_type": "code",
   "execution_count": 48,
   "id": "582be16d",
   "metadata": {},
   "outputs": [
    {
     "data": {
      "text/plain": [
       "Text(0.5, 1.0, 'Rate per 100 v. Ozone Concentration in New Zeland 1979-1994')"
      ]
     },
     "execution_count": 48,
     "metadata": {},
     "output_type": "execute_result"
    },
    {
     "data": {
      "image/png": "[encoded data removed]",
      "text/plain": [
       "<Figure size 432x288 with 1 Axes>"
      ]
     },
     "metadata": {
      "needs_background": "light"
     },
     "output_type": "display_data"
    }
   ],
   "source": [
    "scatter = sns.scatterplot(x=\"Rate\", y=\"Ozone Concentration (DU)\", data=df);\n",
    "scatter.set_title(\"Rate per 100 v. Ozone Concentration in New Zeland 1979-1994\")"
   ]
  },
  {
   "cell_type": "code",
   "execution_count": 117,
   "id": "ae9783af",
   "metadata": {},
   "outputs": [
    {
     "data": {
      "text/plain": [
       "Text(0.5, 1.0, 'Cases of Melanoma v. Ozone Concentration in New Zeland 1979-1994')"
      ]
     },
     "execution_count": 117,
     "metadata": {},
     "output_type": "execute_result"
    },
    {
     "data": {
      "image/png": "[encoded data removed]",
      "text/plain": [
       "<Figure size 432x288 with 1 Axes>"
      ]
     },
     "metadata": {
      "needs_background": "light"
     },
     "output_type": "display_data"
    }
   ],
   "source": [
    "scatter = sns.scatterplot(x=\"Cases of melanoma\", y=\"Ozone Concentration (DU)\", data=df);\n",
    "scatter.set_title(\"Cases of Melanoma v. Ozone Concentration in New Zeland 1979-1994\")"
   ]
  },
  {
   "cell_type": "code",
   "execution_count": null,
   "id": "0cea9a22",
   "metadata": {},
   "outputs": [],
   "source": []
  },
  {
   "cell_type": "code",
   "execution_count": 128,
   "id": "0e1f2acc",
   "metadata": {},
   "outputs": [
    {
     "data": {
      "text/html": [
       "<div>\n",
       "<style scoped>\n",
       "    .dataframe tbody tr th:only-of-type {\n",
       "        vertical-align: middle;\n",
       "    }\n",
       "\n",
       "    .dataframe tbody tr th {\n",
       "        vertical-align: top;\n",
       "    }\n",
       "\n",
       "    .dataframe thead th {\n",
       "        text-align: right;\n",
       "    }\n",
       "</style>\n",
       "<table border=\"1\" class=\"dataframe\">\n",
       "  <thead>\n",
       "    <tr style=\"text-align: right;\">\n",
       "      <th></th>\n",
       "      <th>Ozone Hole Area (Million Km^2)</th>\n",
       "      <th>Ozone Concentration (DU)</th>\n",
       "    </tr>\n",
       "  </thead>\n",
       "  <tbody>\n",
       "    <tr>\n",
       "      <th>0</th>\n",
       "      <td>1.1</td>\n",
       "      <td>194</td>\n",
       "    </tr>\n",
       "    <tr>\n",
       "      <th>1</th>\n",
       "      <td>3.3</td>\n",
       "      <td>192</td>\n",
       "    </tr>\n",
       "    <tr>\n",
       "      <th>2</th>\n",
       "      <td>3.1</td>\n",
       "      <td>195</td>\n",
       "    </tr>\n",
       "    <tr>\n",
       "      <th>3</th>\n",
       "      <td>10.8</td>\n",
       "      <td>170</td>\n",
       "    </tr>\n",
       "    <tr>\n",
       "      <th>4</th>\n",
       "      <td>12.2</td>\n",
       "      <td>154</td>\n",
       "    </tr>\n",
       "    <tr>\n",
       "      <th>5</th>\n",
       "      <td>14.7</td>\n",
       "      <td>144</td>\n",
       "    </tr>\n",
       "    <tr>\n",
       "      <th>6</th>\n",
       "      <td>18.8</td>\n",
       "      <td>124</td>\n",
       "    </tr>\n",
       "    <tr>\n",
       "      <th>7</th>\n",
       "      <td>14.4</td>\n",
       "      <td>140</td>\n",
       "    </tr>\n",
       "    <tr>\n",
       "      <th>8</th>\n",
       "      <td>22.5</td>\n",
       "      <td>109</td>\n",
       "    </tr>\n",
       "    <tr>\n",
       "      <th>9</th>\n",
       "      <td>13.8</td>\n",
       "      <td>162</td>\n",
       "    </tr>\n",
       "    <tr>\n",
       "      <th>10</th>\n",
       "      <td>21.7</td>\n",
       "      <td>108</td>\n",
       "    </tr>\n",
       "    <tr>\n",
       "      <th>11</th>\n",
       "      <td>21.1</td>\n",
       "      <td>111</td>\n",
       "    </tr>\n",
       "    <tr>\n",
       "      <th>12</th>\n",
       "      <td>22.6</td>\n",
       "      <td>94</td>\n",
       "    </tr>\n",
       "    <tr>\n",
       "      <th>13</th>\n",
       "      <td>24.9</td>\n",
       "      <td>105</td>\n",
       "    </tr>\n",
       "    <tr>\n",
       "      <th>14</th>\n",
       "      <td>25.8</td>\n",
       "      <td>104</td>\n",
       "    </tr>\n",
       "    <tr>\n",
       "      <th>15</th>\n",
       "      <td>25.2</td>\n",
       "      <td>73</td>\n",
       "    </tr>\n",
       "  </tbody>\n",
       "</table>\n",
       "</div>"
      ],
      "text/plain": [
       "    Ozone Hole Area (Million Km^2)  Ozone Concentration (DU)\n",
       "0                              1.1                       194\n",
       "1                              3.3                       192\n",
       "2                              3.1                       195\n",
       "3                             10.8                       170\n",
       "4                             12.2                       154\n",
       "5                             14.7                       144\n",
       "6                             18.8                       124\n",
       "7                             14.4                       140\n",
       "8                             22.5                       109\n",
       "9                             13.8                       162\n",
       "10                            21.7                       108\n",
       "11                            21.1                       111\n",
       "12                            22.6                        94\n",
       "13                            24.9                       105\n",
       "14                            25.8                       104\n",
       "15                            25.2                        73"
      ]
     },
     "execution_count": 128,
     "metadata": {},
     "output_type": "execute_result"
    }
   ],
   "source": [
    "train_df_x, train_df_y = df.drop(columns=[\"Rate\", \"Year\", \"Cases of melanoma\"]), df[\"Rate\"]\n",
    "\n",
    "train_df_x"
   ]
  },
  {
   "cell_type": "code",
   "execution_count": 129,
   "id": "139eaeab",
   "metadata": {},
   "outputs": [
    {
     "data": {
      "text/plain": [
       "Lasso()"
      ]
     },
     "execution_count": 129,
     "metadata": {},
     "output_type": "execute_result"
    }
   ],
   "source": [
    "clf = Lasso()\n",
    "\n",
    "clf.fit(train_df_x, train_df_y)"
   ]
  },
  {
   "cell_type": "code",
   "execution_count": 130,
   "id": "a70e9348",
   "metadata": {},
   "outputs": [
    {
     "data": {
      "text/plain": [
       "0.46522771485360925"
      ]
     },
     "execution_count": 130,
     "metadata": {},
     "output_type": "execute_result"
    }
   ],
   "source": [
    "clf.score(train_df_x, train_df_y)"
   ]
  },
  {
   "cell_type": "code",
   "execution_count": 132,
   "id": "27e15d2d",
   "metadata": {},
   "outputs": [
    {
     "name": "stderr",
     "output_type": "stream",
     "text": [
      "/Users/william/opt/anaconda3/lib/python3.9/site-packages/sklearn/base.py:450: UserWarning: X does not have valid feature names, but Lasso was fitted with feature names\n",
      "  warnings.warn(\n"
     ]
    },
    {
     "data": {
      "text/plain": [
       "array([29.8080962])"
      ]
     },
     "execution_count": 132,
     "metadata": {},
     "output_type": "execute_result"
    }
   ],
   "source": [
    "\n",
    "clf.predict([[25.2, 73]])\n",
    "#Target 37.8"
   ]
  },
  {
   "cell_type": "code",
   "execution_count": null,
   "id": "3d3a99ec",
   "metadata": {},
   "outputs": [],
   "source": []
  },
  {
   "cell_type": "code",
   "execution_count": null,
   "id": "0244d9d1",
   "metadata": {},
   "outputs": [],
   "source": []
  },
  {
   "cell_type": "code",
   "execution_count": null,
   "id": "040ce362",
   "metadata": {},
   "outputs": [],
   "source": []
  },
  {
   "cell_type": "code",
   "execution_count": null,
   "id": "98ed4296",
   "metadata": {},
   "outputs": [],
   "source": []
  },
  {
   "cell_type": "code",
   "execution_count": null,
   "id": "b8ad169b",
   "metadata": {},
   "outputs": [],
   "source": [
    "X = ['Ozone Concentration (DU)']\n",
    "Y = ['Rate']"
   ]
  },
  {
   "cell_type": "code",
   "execution_count": 119,
   "id": "35231182",
   "metadata": {},
   "outputs": [],
   "source": [
    "def test(models, data, iterations = 100):\n",
    "    results = {}\n",
    "    for i in models:\n",
    "        r2_train = []\n",
    "        r2_test = []\n",
    "        for j in range(iterations):\n",
    "            X_train, X_test, y_train, y_test = train_test_split(data[X], \n",
    "                                                                data[Y], \n",
    "                                                                test_size= 0.2)\n",
    "            r2_test.append(metrics.r2_score(y_test,\n",
    "                                            models[i].fit(X_train, \n",
    "                                                         y_train).predict(X_test)))\n",
    "            r2_train.append(metrics.r2_score(y_train, \n",
    "                                             models[i].fit(X_train, \n",
    "                                                          y_train).predict(X_train)))\n",
    "        results[i] = [np.mean(r2_train), np.mean(r2_test)]\n",
    "    return pd.DataFrame(results)"
   ]
  },
  {
   "cell_type": "code",
   "execution_count": 120,
   "id": "b9a4c065",
   "metadata": {},
   "outputs": [],
   "source": [
    "models = {'Lasso': linear_model.Lasso(),\n",
    "    }"
   ]
  },
  {
   "cell_type": "code",
   "execution_count": 121,
   "id": "378703d0",
   "metadata": {},
   "outputs": [
    {
     "data": {
      "text/html": [
       "<div>\n",
       "<style scoped>\n",
       "    .dataframe tbody tr th:only-of-type {\n",
       "        vertical-align: middle;\n",
       "    }\n",
       "\n",
       "    .dataframe tbody tr th {\n",
       "        vertical-align: top;\n",
       "    }\n",
       "\n",
       "    .dataframe thead th {\n",
       "        text-align: right;\n",
       "    }\n",
       "</style>\n",
       "<table border=\"1\" class=\"dataframe\">\n",
       "  <thead>\n",
       "    <tr style=\"text-align: right;\">\n",
       "      <th></th>\n",
       "      <th>Lasso</th>\n",
       "    </tr>\n",
       "  </thead>\n",
       "  <tbody>\n",
       "    <tr>\n",
       "      <th>0</th>\n",
       "      <td>0.474545</td>\n",
       "    </tr>\n",
       "    <tr>\n",
       "      <th>1</th>\n",
       "      <td>-0.538840</td>\n",
       "    </tr>\n",
       "  </tbody>\n",
       "</table>\n",
       "</div>"
      ],
      "text/plain": [
       "      Lasso\n",
       "0  0.474545\n",
       "1 -0.538840"
      ]
     },
     "execution_count": 121,
     "metadata": {},
     "output_type": "execute_result"
    }
   ],
   "source": [
    "test(models, df)"
   ]
  },
  {
   "cell_type": "code",
   "execution_count": 122,
   "id": "596b44ad",
   "metadata": {
    "scrolled": true
   },
   "outputs": [],
   "source": [
    "lasso_params = {'alpha':[0.02, 0.024, 0.025, 0.026, 0.03]}"
   ]
  },
  {
   "cell_type": "code",
   "execution_count": 123,
   "id": "bce3df63",
   "metadata": {},
   "outputs": [],
   "source": [
    "models2 = {\n",
    "           'Lasso': GridSearchCV(linear_model.Lasso(), \n",
    "                               param_grid=lasso_params).fit(df[X], df[Y]).best_estimator_,}"
   ]
  },
  {
   "cell_type": "code",
   "execution_count": 124,
   "id": "fa04b815",
   "metadata": {},
   "outputs": [
    {
     "data": {
      "text/html": [
       "<div>\n",
       "<style scoped>\n",
       "    .dataframe tbody tr th:only-of-type {\n",
       "        vertical-align: middle;\n",
       "    }\n",
       "\n",
       "    .dataframe tbody tr th {\n",
       "        vertical-align: top;\n",
       "    }\n",
       "\n",
       "    .dataframe thead th {\n",
       "        text-align: right;\n",
       "    }\n",
       "</style>\n",
       "<table border=\"1\" class=\"dataframe\">\n",
       "  <thead>\n",
       "    <tr style=\"text-align: right;\">\n",
       "      <th></th>\n",
       "      <th>Lasso</th>\n",
       "    </tr>\n",
       "  </thead>\n",
       "  <tbody>\n",
       "    <tr>\n",
       "      <th>0</th>\n",
       "      <td>0.475435</td>\n",
       "    </tr>\n",
       "    <tr>\n",
       "      <th>1</th>\n",
       "      <td>-1.359350</td>\n",
       "    </tr>\n",
       "  </tbody>\n",
       "</table>\n",
       "</div>"
      ],
      "text/plain": [
       "      Lasso\n",
       "0  0.475435\n",
       "1 -1.359350"
      ]
     },
     "execution_count": 124,
     "metadata": {},
     "output_type": "execute_result"
    }
   ],
   "source": [
    "test(models2, df)\n"
   ]
  },
  {
   "cell_type": "code",
   "execution_count": 125,
   "id": "db4fd136",
   "metadata": {},
   "outputs": [],
   "source": [
    "lasso_params = {'fit__alpha':[0.005, 0.02, 0.03, 0.05, 0.06]}"
   ]
  },
  {
   "cell_type": "code",
   "execution_count": 126,
   "id": "63709b01",
   "metadata": {},
   "outputs": [
    {
     "data": {
      "text/html": [
       "<div>\n",
       "<style scoped>\n",
       "    .dataframe tbody tr th:only-of-type {\n",
       "        vertical-align: middle;\n",
       "    }\n",
       "\n",
       "    .dataframe tbody tr th {\n",
       "        vertical-align: top;\n",
       "    }\n",
       "\n",
       "    .dataframe thead th {\n",
       "        text-align: right;\n",
       "    }\n",
       "</style>\n",
       "<table border=\"1\" class=\"dataframe\">\n",
       "  <thead>\n",
       "    <tr style=\"text-align: right;\">\n",
       "      <th></th>\n",
       "      <th>Lasso</th>\n",
       "    </tr>\n",
       "  </thead>\n",
       "  <tbody>\n",
       "    <tr>\n",
       "      <th>0</th>\n",
       "      <td>0.477612</td>\n",
       "    </tr>\n",
       "    <tr>\n",
       "      <th>1</th>\n",
       "      <td>-0.897310</td>\n",
       "    </tr>\n",
       "  </tbody>\n",
       "</table>\n",
       "</div>"
      ],
      "text/plain": [
       "      Lasso\n",
       "0  0.477612\n",
       "1 -0.897310"
      ]
     },
     "execution_count": 126,
     "metadata": {},
     "output_type": "execute_result"
    }
   ],
   "source": [
    "pipe2 = Pipeline([\n",
    "                 ('fit', linear_model.Lasso())])\n",
    "models3 = {\n",
    "           'Lasso': GridSearchCV(pipe2, \n",
    "                                 param_grid=lasso_params).fit(df[X], df[Y]).best_estimator_ ,}\n",
    "test(models3, df)"
   ]
  },
  {
   "cell_type": "code",
   "execution_count": 79,
   "id": "56216dd3",
   "metadata": {},
   "outputs": [
    {
     "data": {
      "image/png": "[encoded data removed]",
      "text/plain": [
       "<Figure size 432x288 with 1 Axes>"
      ]
     },
     "metadata": {
      "needs_background": "light"
     },
     "output_type": "display_data"
    },
    {
     "data": {
      "text/html": [
       "<div>\n",
       "<style scoped>\n",
       "    .dataframe tbody tr th:only-of-type {\n",
       "        vertical-align: middle;\n",
       "    }\n",
       "\n",
       "    .dataframe tbody tr th {\n",
       "        vertical-align: top;\n",
       "    }\n",
       "\n",
       "    .dataframe thead th {\n",
       "        text-align: right;\n",
       "    }\n",
       "</style>\n",
       "<table border=\"1\" class=\"dataframe\">\n",
       "  <thead>\n",
       "    <tr style=\"text-align: right;\">\n",
       "      <th></th>\n",
       "      <th>Year</th>\n",
       "      <th>Cases of melanoma</th>\n",
       "      <th>Rate</th>\n",
       "      <th>Ozone Hole Area (Million Km^2)</th>\n",
       "      <th>Ozone Concentration (DU)</th>\n",
       "    </tr>\n",
       "  </thead>\n",
       "  <tbody>\n",
       "    <tr>\n",
       "      <th>0</th>\n",
       "      <td>1979</td>\n",
       "      <td>495</td>\n",
       "      <td>16.5</td>\n",
       "      <td>1.1</td>\n",
       "      <td>194</td>\n",
       "    </tr>\n",
       "    <tr>\n",
       "      <th>1</th>\n",
       "      <td>1980</td>\n",
       "      <td>610</td>\n",
       "      <td>20.1</td>\n",
       "      <td>3.3</td>\n",
       "      <td>192</td>\n",
       "    </tr>\n",
       "    <tr>\n",
       "      <th>2</th>\n",
       "      <td>1981</td>\n",
       "      <td>641</td>\n",
       "      <td>20.5</td>\n",
       "      <td>3.1</td>\n",
       "      <td>195</td>\n",
       "    </tr>\n",
       "    <tr>\n",
       "      <th>3</th>\n",
       "      <td>1982</td>\n",
       "      <td>733</td>\n",
       "      <td>23.1</td>\n",
       "      <td>10.8</td>\n",
       "      <td>170</td>\n",
       "    </tr>\n",
       "    <tr>\n",
       "      <th>4</th>\n",
       "      <td>1983</td>\n",
       "      <td>686</td>\n",
       "      <td>21.2</td>\n",
       "      <td>12.2</td>\n",
       "      <td>154</td>\n",
       "    </tr>\n",
       "    <tr>\n",
       "      <th>5</th>\n",
       "      <td>1984</td>\n",
       "      <td>771</td>\n",
       "      <td>23.2</td>\n",
       "      <td>14.7</td>\n",
       "      <td>144</td>\n",
       "    </tr>\n",
       "    <tr>\n",
       "      <th>6</th>\n",
       "      <td>1985</td>\n",
       "      <td>662</td>\n",
       "      <td>19.4</td>\n",
       "      <td>18.8</td>\n",
       "      <td>124</td>\n",
       "    </tr>\n",
       "    <tr>\n",
       "      <th>7</th>\n",
       "      <td>1986</td>\n",
       "      <td>737</td>\n",
       "      <td>21.5</td>\n",
       "      <td>14.4</td>\n",
       "      <td>140</td>\n",
       "    </tr>\n",
       "    <tr>\n",
       "      <th>8</th>\n",
       "      <td>1987</td>\n",
       "      <td>814</td>\n",
       "      <td>23.2</td>\n",
       "      <td>22.5</td>\n",
       "      <td>109</td>\n",
       "    </tr>\n",
       "    <tr>\n",
       "      <th>9</th>\n",
       "      <td>1988</td>\n",
       "      <td>1051</td>\n",
       "      <td>29.6</td>\n",
       "      <td>13.8</td>\n",
       "      <td>162</td>\n",
       "    </tr>\n",
       "    <tr>\n",
       "      <th>10</th>\n",
       "      <td>1989</td>\n",
       "      <td>1005</td>\n",
       "      <td>28.1</td>\n",
       "      <td>21.7</td>\n",
       "      <td>108</td>\n",
       "    </tr>\n",
       "    <tr>\n",
       "      <th>11</th>\n",
       "      <td>1990</td>\n",
       "      <td>884</td>\n",
       "      <td>24.0</td>\n",
       "      <td>21.1</td>\n",
       "      <td>111</td>\n",
       "    </tr>\n",
       "    <tr>\n",
       "      <th>12</th>\n",
       "      <td>1991</td>\n",
       "      <td>973</td>\n",
       "      <td>26.0</td>\n",
       "      <td>22.6</td>\n",
       "      <td>94</td>\n",
       "    </tr>\n",
       "    <tr>\n",
       "      <th>13</th>\n",
       "      <td>1992</td>\n",
       "      <td>1032</td>\n",
       "      <td>27.0</td>\n",
       "      <td>24.9</td>\n",
       "      <td>105</td>\n",
       "    </tr>\n",
       "    <tr>\n",
       "      <th>14</th>\n",
       "      <td>1993</td>\n",
       "      <td>1037</td>\n",
       "      <td>26.5</td>\n",
       "      <td>25.8</td>\n",
       "      <td>104</td>\n",
       "    </tr>\n",
       "    <tr>\n",
       "      <th>15</th>\n",
       "      <td>1994</td>\n",
       "      <td>1487</td>\n",
       "      <td>37.8</td>\n",
       "      <td>25.2</td>\n",
       "      <td>73</td>\n",
       "    </tr>\n",
       "  </tbody>\n",
       "</table>\n",
       "</div>"
      ],
      "text/plain": [
       "    Year  Cases of melanoma  Rate  Ozone Hole Area (Million Km^2)  \\\n",
       "0   1979                495  16.5                             1.1   \n",
       "1   1980                610  20.1                             3.3   \n",
       "2   1981                641  20.5                             3.1   \n",
       "3   1982                733  23.1                            10.8   \n",
       "4   1983                686  21.2                            12.2   \n",
       "5   1984                771  23.2                            14.7   \n",
       "6   1985                662  19.4                            18.8   \n",
       "7   1986                737  21.5                            14.4   \n",
       "8   1987                814  23.2                            22.5   \n",
       "9   1988               1051  29.6                            13.8   \n",
       "10  1989               1005  28.1                            21.7   \n",
       "11  1990                884  24.0                            21.1   \n",
       "12  1991                973  26.0                            22.6   \n",
       "13  1992               1032  27.0                            24.9   \n",
       "14  1993               1037  26.5                            25.8   \n",
       "15  1994               1487  37.8                            25.2   \n",
       "\n",
       "    Ozone Concentration (DU)  \n",
       "0                        194  \n",
       "1                        192  \n",
       "2                        195  \n",
       "3                        170  \n",
       "4                        154  \n",
       "5                        144  \n",
       "6                        124  \n",
       "7                        140  \n",
       "8                        109  \n",
       "9                        162  \n",
       "10                       108  \n",
       "11                       111  \n",
       "12                        94  \n",
       "13                       105  \n",
       "14                       104  \n",
       "15                        73  "
      ]
     },
     "execution_count": 79,
     "metadata": {},
     "output_type": "execute_result"
    }
   ],
   "source": [
    "x = df[\"Year\"]\n",
    "y = df[\"Ozone Hole Area (Million Km^2)\"]\n",
    "# plotting the points \n",
    "plt.plot(x, y, color = \"blue\")\n",
    "  \n",
    "\n",
    "  \n",
    "# giving a title to my graph\n",
    "plt.title('Ozone Hole Area (Million Km^2) (1979 - 1994)')\n",
    "\n",
    "\n",
    "\n",
    "# function to show the plot\n",
    "plt.show()\n",
    "\n",
    "df\n",
    "\n"
   ]
  },
  {
   "cell_type": "code",
   "execution_count": null,
   "id": "ecac64aa",
   "metadata": {},
   "outputs": [],
   "source": []
  }
 ],
 "metadata": {
  "kernelspec": {
   "display_name": "Python 3 (ipykernel)",
   "language": "python",
   "name": "python3"
  },
  "language_info": {
   "codemirror_mode": {
    "name": "ipython",
    "version": 3
   },
   "file_extension": ".py",
   "mimetype": "text/x-python",
   "name": "python",
   "nbconvert_exporter": "python",
   "pygments_lexer": "ipython3",
   "version": "3.9.12"
  }
 },
 "nbformat": 4,
 "nbformat_minor": 5
}
